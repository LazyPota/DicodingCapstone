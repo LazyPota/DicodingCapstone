{
  "cells": [
    {
      "cell_type": "markdown",
      "metadata": {},
      "source": [
        "## Menginstal Library Yang di Perlukan & Mengimportnya"
      ]
    },
    {
      "cell_type": "code",
      "execution_count": null,
      "metadata": {
        "colab": {
          "base_uri": "https://localhost:8080/"
        },
        "id": "HyAwd4qXVVdT",
        "outputId": "61ff0724-1e0b-447d-cb19-ada81da0598c"
      },
      "outputs": [
        {
          "name": "stdout",
          "output_type": "stream",
          "text": [
            "Collecting tensorflowjs\n",
            "  Downloading tensorflowjs-4.22.0-py3-none-any.whl.metadata (3.2 kB)\n",
            "Requirement already satisfied: flax>=0.7.2 in /usr/local/lib/python3.11/dist-packages (from tensorflowjs) (0.10.5)\n",
            "Requirement already satisfied: importlib_resources>=5.9.0 in /usr/local/lib/python3.11/dist-packages (from tensorflowjs) (6.5.2)\n",
            "Requirement already satisfied: jax>=0.4.13 in /usr/local/lib/python3.11/dist-packages (from tensorflowjs) (0.5.2)\n",
            "Requirement already satisfied: jaxlib>=0.4.13 in /usr/local/lib/python3.11/dist-packages (from tensorflowjs) (0.5.1)\n",
            "Requirement already satisfied: tensorflow<3,>=2.13.0 in /usr/local/lib/python3.11/dist-packages (from tensorflowjs) (2.18.0)\n",
            "Requirement already satisfied: tf-keras>=2.13.0 in /usr/local/lib/python3.11/dist-packages (from tensorflowjs) (2.18.0)\n",
            "Requirement already satisfied: tensorflow-decision-forests>=1.5.0 in /usr/local/lib/python3.11/dist-packages (from tensorflowjs) (1.11.0)\n",
            "Requirement already satisfied: six<2,>=1.16.0 in /usr/local/lib/python3.11/dist-packages (from tensorflowjs) (1.17.0)\n",
            "Requirement already satisfied: tensorflow-hub>=0.16.1 in /usr/local/lib/python3.11/dist-packages (from tensorflowjs) (0.16.1)\n",
            "Collecting packaging~=23.1 (from tensorflowjs)\n",
            "  Downloading packaging-23.2-py3-none-any.whl.metadata (3.2 kB)\n",
            "Requirement already satisfied: numpy>=1.23.2 in /usr/local/lib/python3.11/dist-packages (from flax>=0.7.2->tensorflowjs) (2.0.2)\n",
            "Requirement already satisfied: msgpack in /usr/local/lib/python3.11/dist-packages (from flax>=0.7.2->tensorflowjs) (1.1.0)\n",
            "Requirement already satisfied: optax in /usr/local/lib/python3.11/dist-packages (from flax>=0.7.2->tensorflowjs) (0.2.4)\n",
            "Requirement already satisfied: orbax-checkpoint in /usr/local/lib/python3.11/dist-packages (from flax>=0.7.2->tensorflowjs) (0.11.10)\n",
            "Requirement already satisfied: tensorstore in /usr/local/lib/python3.11/dist-packages (from flax>=0.7.2->tensorflowjs) (0.1.73)\n",
            "Requirement already satisfied: rich>=11.1 in /usr/local/lib/python3.11/dist-packages (from flax>=0.7.2->tensorflowjs) (13.9.4)\n",
            "Requirement already satisfied: typing_extensions>=4.2 in /usr/local/lib/python3.11/dist-packages (from flax>=0.7.2->tensorflowjs) (4.13.1)\n",
            "Requirement already satisfied: PyYAML>=5.4.1 in /usr/local/lib/python3.11/dist-packages (from flax>=0.7.2->tensorflowjs) (6.0.2)\n",
            "Requirement already satisfied: treescope>=0.1.7 in /usr/local/lib/python3.11/dist-packages (from flax>=0.7.2->tensorflowjs) (0.1.9)\n",
            "Requirement already satisfied: ml_dtypes>=0.4.0 in /usr/local/lib/python3.11/dist-packages (from jax>=0.4.13->tensorflowjs) (0.4.1)\n",
            "Requirement already satisfied: opt_einsum in /usr/local/lib/python3.11/dist-packages (from jax>=0.4.13->tensorflowjs) (3.4.0)\n",
            "Requirement already satisfied: scipy>=1.11.1 in /usr/local/lib/python3.11/dist-packages (from jax>=0.4.13->tensorflowjs) (1.14.1)\n",
            "Requirement already satisfied: absl-py>=1.0.0 in /usr/local/lib/python3.11/dist-packages (from tensorflow<3,>=2.13.0->tensorflowjs) (1.4.0)\n",
            "Requirement already satisfied: astunparse>=1.6.0 in /usr/local/lib/python3.11/dist-packages (from tensorflow<3,>=2.13.0->tensorflowjs) (1.6.3)\n",
            "Requirement already satisfied: flatbuffers>=24.3.25 in /usr/local/lib/python3.11/dist-packages (from tensorflow<3,>=2.13.0->tensorflowjs) (25.2.10)\n",
            "Requirement already satisfied: gast!=0.5.0,!=0.5.1,!=0.5.2,>=0.2.1 in /usr/local/lib/python3.11/dist-packages (from tensorflow<3,>=2.13.0->tensorflowjs) (0.6.0)\n",
            "Requirement already satisfied: google-pasta>=0.1.1 in /usr/local/lib/python3.11/dist-packages (from tensorflow<3,>=2.13.0->tensorflowjs) (0.2.0)\n",
            "Requirement already satisfied: libclang>=13.0.0 in /usr/local/lib/python3.11/dist-packages (from tensorflow<3,>=2.13.0->tensorflowjs) (18.1.1)\n",
            "Requirement already satisfied: protobuf!=4.21.0,!=4.21.1,!=4.21.2,!=4.21.3,!=4.21.4,!=4.21.5,<6.0.0dev,>=3.20.3 in /usr/local/lib/python3.11/dist-packages (from tensorflow<3,>=2.13.0->tensorflowjs) (5.29.4)\n",
            "Requirement already satisfied: requests<3,>=2.21.0 in /usr/local/lib/python3.11/dist-packages (from tensorflow<3,>=2.13.0->tensorflowjs) (2.32.3)\n",
            "Requirement already satisfied: setuptools in /usr/local/lib/python3.11/dist-packages (from tensorflow<3,>=2.13.0->tensorflowjs) (75.2.0)\n",
            "Requirement already satisfied: termcolor>=1.1.0 in /usr/local/lib/python3.11/dist-packages (from tensorflow<3,>=2.13.0->tensorflowjs) (3.0.1)\n",
            "Requirement already satisfied: wrapt>=1.11.0 in /usr/local/lib/python3.11/dist-packages (from tensorflow<3,>=2.13.0->tensorflowjs) (1.17.2)\n",
            "Requirement already satisfied: grpcio<2.0,>=1.24.3 in /usr/local/lib/python3.11/dist-packages (from tensorflow<3,>=2.13.0->tensorflowjs) (1.71.0)\n",
            "Requirement already satisfied: tensorboard<2.19,>=2.18 in /usr/local/lib/python3.11/dist-packages (from tensorflow<3,>=2.13.0->tensorflowjs) (2.18.0)\n",
            "Requirement already satisfied: keras>=3.5.0 in /usr/local/lib/python3.11/dist-packages (from tensorflow<3,>=2.13.0->tensorflowjs) (3.8.0)\n",
            "Requirement already satisfied: h5py>=3.11.0 in /usr/local/lib/python3.11/dist-packages (from tensorflow<3,>=2.13.0->tensorflowjs) (3.13.0)\n",
            "Requirement already satisfied: tensorflow-io-gcs-filesystem>=0.23.1 in /usr/local/lib/python3.11/dist-packages (from tensorflow<3,>=2.13.0->tensorflowjs) (0.37.1)\n",
            "Requirement already satisfied: pandas in /usr/local/lib/python3.11/dist-packages (from tensorflow-decision-forests>=1.5.0->tensorflowjs) (2.2.2)\n",
            "Requirement already satisfied: wheel in /usr/local/lib/python3.11/dist-packages (from tensorflow-decision-forests>=1.5.0->tensorflowjs) (0.45.1)\n",
            "Requirement already satisfied: wurlitzer in /usr/local/lib/python3.11/dist-packages (from tensorflow-decision-forests>=1.5.0->tensorflowjs) (3.1.1)\n",
            "Requirement already satisfied: ydf in /usr/local/lib/python3.11/dist-packages (from tensorflow-decision-forests>=1.5.0->tensorflowjs) (0.11.0)\n",
            "Requirement already satisfied: namex in /usr/local/lib/python3.11/dist-packages (from keras>=3.5.0->tensorflow<3,>=2.13.0->tensorflowjs) (0.0.8)\n",
            "Requirement already satisfied: optree in /usr/local/lib/python3.11/dist-packages (from keras>=3.5.0->tensorflow<3,>=2.13.0->tensorflowjs) (0.14.1)\n",
            "Requirement already satisfied: charset-normalizer<4,>=2 in /usr/local/lib/python3.11/dist-packages (from requests<3,>=2.21.0->tensorflow<3,>=2.13.0->tensorflowjs) (3.4.1)\n",
            "Requirement already satisfied: idna<4,>=2.5 in /usr/local/lib/python3.11/dist-packages (from requests<3,>=2.21.0->tensorflow<3,>=2.13.0->tensorflowjs) (3.10)\n",
            "Requirement already satisfied: urllib3<3,>=1.21.1 in /usr/local/lib/python3.11/dist-packages (from requests<3,>=2.21.0->tensorflow<3,>=2.13.0->tensorflowjs) (2.3.0)\n",
            "Requirement already satisfied: certifi>=2017.4.17 in /usr/local/lib/python3.11/dist-packages (from requests<3,>=2.21.0->tensorflow<3,>=2.13.0->tensorflowjs) (2025.1.31)\n",
            "Requirement already satisfied: markdown-it-py>=2.2.0 in /usr/local/lib/python3.11/dist-packages (from rich>=11.1->flax>=0.7.2->tensorflowjs) (3.0.0)\n",
            "Requirement already satisfied: pygments<3.0.0,>=2.13.0 in /usr/local/lib/python3.11/dist-packages (from rich>=11.1->flax>=0.7.2->tensorflowjs) (2.18.0)\n",
            "Requirement already satisfied: markdown>=2.6.8 in /usr/local/lib/python3.11/dist-packages (from tensorboard<2.19,>=2.18->tensorflow<3,>=2.13.0->tensorflowjs) (3.7)\n",
            "Requirement already satisfied: tensorboard-data-server<0.8.0,>=0.7.0 in /usr/local/lib/python3.11/dist-packages (from tensorboard<2.19,>=2.18->tensorflow<3,>=2.13.0->tensorflowjs) (0.7.2)\n",
            "Requirement already satisfied: werkzeug>=1.0.1 in /usr/local/lib/python3.11/dist-packages (from tensorboard<2.19,>=2.18->tensorflow<3,>=2.13.0->tensorflowjs) (3.1.3)\n",
            "Requirement already satisfied: chex>=0.1.87 in /usr/local/lib/python3.11/dist-packages (from optax->flax>=0.7.2->tensorflowjs) (0.1.89)\n",
            "Requirement already satisfied: etils[epy] in /usr/local/lib/python3.11/dist-packages (from optax->flax>=0.7.2->tensorflowjs) (1.12.2)\n",
            "Requirement already satisfied: nest_asyncio in /usr/local/lib/python3.11/dist-packages (from orbax-checkpoint->flax>=0.7.2->tensorflowjs) (1.6.0)\n",
            "Requirement already satisfied: humanize in /usr/local/lib/python3.11/dist-packages (from orbax-checkpoint->flax>=0.7.2->tensorflowjs) (4.12.2)\n",
            "Requirement already satisfied: simplejson>=3.16.0 in /usr/local/lib/python3.11/dist-packages (from orbax-checkpoint->flax>=0.7.2->tensorflowjs) (3.20.1)\n",
            "Requirement already satisfied: python-dateutil>=2.8.2 in /usr/local/lib/python3.11/dist-packages (from pandas->tensorflow-decision-forests>=1.5.0->tensorflowjs) (2.8.2)\n",
            "Requirement already satisfied: pytz>=2020.1 in /usr/local/lib/python3.11/dist-packages (from pandas->tensorflow-decision-forests>=1.5.0->tensorflowjs) (2025.2)\n",
            "Requirement already satisfied: tzdata>=2022.7 in /usr/local/lib/python3.11/dist-packages (from pandas->tensorflow-decision-forests>=1.5.0->tensorflowjs) (2025.2)\n",
            "Requirement already satisfied: toolz>=0.9.0 in /usr/local/lib/python3.11/dist-packages (from chex>=0.1.87->optax->flax>=0.7.2->tensorflowjs) (0.12.1)\n",
            "Requirement already satisfied: mdurl~=0.1 in /usr/local/lib/python3.11/dist-packages (from markdown-it-py>=2.2.0->rich>=11.1->flax>=0.7.2->tensorflowjs) (0.1.2)\n",
            "Requirement already satisfied: MarkupSafe>=2.1.1 in /usr/local/lib/python3.11/dist-packages (from werkzeug>=1.0.1->tensorboard<2.19,>=2.18->tensorflow<3,>=2.13.0->tensorflowjs) (3.0.2)\n",
            "Requirement already satisfied: fsspec in /usr/local/lib/python3.11/dist-packages (from etils[epath,epy]->orbax-checkpoint->flax>=0.7.2->tensorflowjs) (2025.3.2)\n",
            "Requirement already satisfied: zipp in /usr/local/lib/python3.11/dist-packages (from etils[epath,epy]->orbax-checkpoint->flax>=0.7.2->tensorflowjs) (3.21.0)\n",
            "Downloading tensorflowjs-4.22.0-py3-none-any.whl (89 kB)\n",
            "\u001b[2K   \u001b[90m━━━━━━━━━━━━━━━━━━━━━━━━━━━━━━━━━━━━━━━━\u001b[0m \u001b[32m89.1/89.1 kB\u001b[0m \u001b[31m898.8 kB/s\u001b[0m eta \u001b[36m0:00:00\u001b[0m\n",
            "\u001b[?25hDownloading packaging-23.2-py3-none-any.whl (53 kB)\n",
            "\u001b[2K   \u001b[90m━━━━━━━━━━━━━━━━━━━━━━━━━━━━━━━━━━━━━━━━\u001b[0m \u001b[32m53.0/53.0 kB\u001b[0m \u001b[31m3.3 MB/s\u001b[0m eta \u001b[36m0:00:00\u001b[0m\n",
            "\u001b[?25hInstalling collected packages: packaging, tensorflowjs\n",
            "  Attempting uninstall: packaging\n",
            "    Found existing installation: packaging 24.2\n",
            "    Uninstalling packaging-24.2:\n",
            "      Successfully uninstalled packaging-24.2\n",
            "\u001b[31mERROR: pip's dependency resolver does not currently take into account all the packages that are installed. This behaviour is the source of the following dependency conflicts.\n",
            "google-cloud-bigquery 3.31.0 requires packaging>=24.2.0, but you have packaging 23.2 which is incompatible.\u001b[0m\u001b[31m\n",
            "\u001b[0mSuccessfully installed packaging-23.2 tensorflowjs-4.22.0\n",
            "Collecting scikeras\n",
            "  Downloading scikeras-0.13.0-py3-none-any.whl.metadata (3.1 kB)\n",
            "Requirement already satisfied: keras>=3.2.0 in /usr/local/lib/python3.11/dist-packages (from scikeras) (3.8.0)\n",
            "Requirement already satisfied: scikit-learn>=1.4.2 in /usr/local/lib/python3.11/dist-packages (from scikeras) (1.6.1)\n",
            "Requirement already satisfied: absl-py in /usr/local/lib/python3.11/dist-packages (from keras>=3.2.0->scikeras) (1.4.0)\n",
            "Requirement already satisfied: numpy in /usr/local/lib/python3.11/dist-packages (from keras>=3.2.0->scikeras) (2.0.2)\n",
            "Requirement already satisfied: rich in /usr/local/lib/python3.11/dist-packages (from keras>=3.2.0->scikeras) (13.9.4)\n",
            "Requirement already satisfied: namex in /usr/local/lib/python3.11/dist-packages (from keras>=3.2.0->scikeras) (0.0.8)\n",
            "Requirement already satisfied: h5py in /usr/local/lib/python3.11/dist-packages (from keras>=3.2.0->scikeras) (3.13.0)\n",
            "Requirement already satisfied: optree in /usr/local/lib/python3.11/dist-packages (from keras>=3.2.0->scikeras) (0.14.1)\n",
            "Requirement already satisfied: ml-dtypes in /usr/local/lib/python3.11/dist-packages (from keras>=3.2.0->scikeras) (0.4.1)\n",
            "Requirement already satisfied: packaging in /usr/local/lib/python3.11/dist-packages (from keras>=3.2.0->scikeras) (23.2)\n",
            "Requirement already satisfied: scipy>=1.6.0 in /usr/local/lib/python3.11/dist-packages (from scikit-learn>=1.4.2->scikeras) (1.14.1)\n",
            "Requirement already satisfied: joblib>=1.2.0 in /usr/local/lib/python3.11/dist-packages (from scikit-learn>=1.4.2->scikeras) (1.4.2)\n",
            "Requirement already satisfied: threadpoolctl>=3.1.0 in /usr/local/lib/python3.11/dist-packages (from scikit-learn>=1.4.2->scikeras) (3.6.0)\n",
            "Requirement already satisfied: typing-extensions>=4.5.0 in /usr/local/lib/python3.11/dist-packages (from optree->keras>=3.2.0->scikeras) (4.13.1)\n",
            "Requirement already satisfied: markdown-it-py>=2.2.0 in /usr/local/lib/python3.11/dist-packages (from rich->keras>=3.2.0->scikeras) (3.0.0)\n",
            "Requirement already satisfied: pygments<3.0.0,>=2.13.0 in /usr/local/lib/python3.11/dist-packages (from rich->keras>=3.2.0->scikeras) (2.18.0)\n",
            "Requirement already satisfied: mdurl~=0.1 in /usr/local/lib/python3.11/dist-packages (from markdown-it-py>=2.2.0->rich->keras>=3.2.0->scikeras) (0.1.2)\n",
            "Downloading scikeras-0.13.0-py3-none-any.whl (26 kB)\n",
            "Installing collected packages: scikeras\n",
            "Successfully installed scikeras-0.13.0\n",
            "Requirement already satisfied: tensorflow_decision_forests in /usr/local/lib/python3.11/dist-packages (1.11.0)\n",
            "Requirement already satisfied: numpy in /usr/local/lib/python3.11/dist-packages (from tensorflow_decision_forests) (2.0.2)\n",
            "Requirement already satisfied: pandas in /usr/local/lib/python3.11/dist-packages (from tensorflow_decision_forests) (2.2.2)\n",
            "Requirement already satisfied: tensorflow==2.18.0 in /usr/local/lib/python3.11/dist-packages (from tensorflow_decision_forests) (2.18.0)\n",
            "Requirement already satisfied: six in /usr/local/lib/python3.11/dist-packages (from tensorflow_decision_forests) (1.17.0)\n",
            "Requirement already satisfied: absl-py in /usr/local/lib/python3.11/dist-packages (from tensorflow_decision_forests) (1.4.0)\n",
            "Requirement already satisfied: wheel in /usr/local/lib/python3.11/dist-packages (from tensorflow_decision_forests) (0.45.1)\n",
            "Requirement already satisfied: wurlitzer in /usr/local/lib/python3.11/dist-packages (from tensorflow_decision_forests) (3.1.1)\n",
            "Requirement already satisfied: tf-keras~=2.17 in /usr/local/lib/python3.11/dist-packages (from tensorflow_decision_forests) (2.18.0)\n",
            "Requirement already satisfied: ydf in /usr/local/lib/python3.11/dist-packages (from tensorflow_decision_forests) (0.11.0)\n",
            "Requirement already satisfied: astunparse>=1.6.0 in /usr/local/lib/python3.11/dist-packages (from tensorflow==2.18.0->tensorflow_decision_forests) (1.6.3)\n",
            "Requirement already satisfied: flatbuffers>=24.3.25 in /usr/local/lib/python3.11/dist-packages (from tensorflow==2.18.0->tensorflow_decision_forests) (25.2.10)\n",
            "Requirement already satisfied: gast!=0.5.0,!=0.5.1,!=0.5.2,>=0.2.1 in /usr/local/lib/python3.11/dist-packages (from tensorflow==2.18.0->tensorflow_decision_forests) (0.6.0)\n",
            "Requirement already satisfied: google-pasta>=0.1.1 in /usr/local/lib/python3.11/dist-packages (from tensorflow==2.18.0->tensorflow_decision_forests) (0.2.0)\n",
            "Requirement already satisfied: libclang>=13.0.0 in /usr/local/lib/python3.11/dist-packages (from tensorflow==2.18.0->tensorflow_decision_forests) (18.1.1)\n",
            "Requirement already satisfied: opt-einsum>=2.3.2 in /usr/local/lib/python3.11/dist-packages (from tensorflow==2.18.0->tensorflow_decision_forests) (3.4.0)\n",
            "Requirement already satisfied: packaging in /usr/local/lib/python3.11/dist-packages (from tensorflow==2.18.0->tensorflow_decision_forests) (23.2)\n",
            "Requirement already satisfied: protobuf!=4.21.0,!=4.21.1,!=4.21.2,!=4.21.3,!=4.21.4,!=4.21.5,<6.0.0dev,>=3.20.3 in /usr/local/lib/python3.11/dist-packages (from tensorflow==2.18.0->tensorflow_decision_forests) (5.29.4)\n",
            "Requirement already satisfied: requests<3,>=2.21.0 in /usr/local/lib/python3.11/dist-packages (from tensorflow==2.18.0->tensorflow_decision_forests) (2.32.3)\n",
            "Requirement already satisfied: setuptools in /usr/local/lib/python3.11/dist-packages (from tensorflow==2.18.0->tensorflow_decision_forests) (75.2.0)\n",
            "Requirement already satisfied: termcolor>=1.1.0 in /usr/local/lib/python3.11/dist-packages (from tensorflow==2.18.0->tensorflow_decision_forests) (3.0.1)\n",
            "Requirement already satisfied: typing-extensions>=3.6.6 in /usr/local/lib/python3.11/dist-packages (from tensorflow==2.18.0->tensorflow_decision_forests) (4.13.1)\n",
            "Requirement already satisfied: wrapt>=1.11.0 in /usr/local/lib/python3.11/dist-packages (from tensorflow==2.18.0->tensorflow_decision_forests) (1.17.2)\n",
            "Requirement already satisfied: grpcio<2.0,>=1.24.3 in /usr/local/lib/python3.11/dist-packages (from tensorflow==2.18.0->tensorflow_decision_forests) (1.71.0)\n",
            "Requirement already satisfied: tensorboard<2.19,>=2.18 in /usr/local/lib/python3.11/dist-packages (from tensorflow==2.18.0->tensorflow_decision_forests) (2.18.0)\n",
            "Requirement already satisfied: keras>=3.5.0 in /usr/local/lib/python3.11/dist-packages (from tensorflow==2.18.0->tensorflow_decision_forests) (3.8.0)\n",
            "Requirement already satisfied: h5py>=3.11.0 in /usr/local/lib/python3.11/dist-packages (from tensorflow==2.18.0->tensorflow_decision_forests) (3.13.0)\n",
            "Requirement already satisfied: ml-dtypes<0.5.0,>=0.4.0 in /usr/local/lib/python3.11/dist-packages (from tensorflow==2.18.0->tensorflow_decision_forests) (0.4.1)\n",
            "Requirement already satisfied: tensorflow-io-gcs-filesystem>=0.23.1 in /usr/local/lib/python3.11/dist-packages (from tensorflow==2.18.0->tensorflow_decision_forests) (0.37.1)\n",
            "Requirement already satisfied: python-dateutil>=2.8.2 in /usr/local/lib/python3.11/dist-packages (from pandas->tensorflow_decision_forests) (2.8.2)\n",
            "Requirement already satisfied: pytz>=2020.1 in /usr/local/lib/python3.11/dist-packages (from pandas->tensorflow_decision_forests) (2025.2)\n",
            "Requirement already satisfied: tzdata>=2022.7 in /usr/local/lib/python3.11/dist-packages (from pandas->tensorflow_decision_forests) (2025.2)\n",
            "Requirement already satisfied: rich in /usr/local/lib/python3.11/dist-packages (from keras>=3.5.0->tensorflow==2.18.0->tensorflow_decision_forests) (13.9.4)\n",
            "Requirement already satisfied: namex in /usr/local/lib/python3.11/dist-packages (from keras>=3.5.0->tensorflow==2.18.0->tensorflow_decision_forests) (0.0.8)\n",
            "Requirement already satisfied: optree in /usr/local/lib/python3.11/dist-packages (from keras>=3.5.0->tensorflow==2.18.0->tensorflow_decision_forests) (0.14.1)\n",
            "Requirement already satisfied: charset-normalizer<4,>=2 in /usr/local/lib/python3.11/dist-packages (from requests<3,>=2.21.0->tensorflow==2.18.0->tensorflow_decision_forests) (3.4.1)\n",
            "Requirement already satisfied: idna<4,>=2.5 in /usr/local/lib/python3.11/dist-packages (from requests<3,>=2.21.0->tensorflow==2.18.0->tensorflow_decision_forests) (3.10)\n",
            "Requirement already satisfied: urllib3<3,>=1.21.1 in /usr/local/lib/python3.11/dist-packages (from requests<3,>=2.21.0->tensorflow==2.18.0->tensorflow_decision_forests) (2.3.0)\n",
            "Requirement already satisfied: certifi>=2017.4.17 in /usr/local/lib/python3.11/dist-packages (from requests<3,>=2.21.0->tensorflow==2.18.0->tensorflow_decision_forests) (2025.1.31)\n",
            "Requirement already satisfied: markdown>=2.6.8 in /usr/local/lib/python3.11/dist-packages (from tensorboard<2.19,>=2.18->tensorflow==2.18.0->tensorflow_decision_forests) (3.7)\n",
            "Requirement already satisfied: tensorboard-data-server<0.8.0,>=0.7.0 in /usr/local/lib/python3.11/dist-packages (from tensorboard<2.19,>=2.18->tensorflow==2.18.0->tensorflow_decision_forests) (0.7.2)\n",
            "Requirement already satisfied: werkzeug>=1.0.1 in /usr/local/lib/python3.11/dist-packages (from tensorboard<2.19,>=2.18->tensorflow==2.18.0->tensorflow_decision_forests) (3.1.3)\n",
            "Requirement already satisfied: MarkupSafe>=2.1.1 in /usr/local/lib/python3.11/dist-packages (from werkzeug>=1.0.1->tensorboard<2.19,>=2.18->tensorflow==2.18.0->tensorflow_decision_forests) (3.0.2)\n",
            "Requirement already satisfied: markdown-it-py>=2.2.0 in /usr/local/lib/python3.11/dist-packages (from rich->keras>=3.5.0->tensorflow==2.18.0->tensorflow_decision_forests) (3.0.0)\n",
            "Requirement already satisfied: pygments<3.0.0,>=2.13.0 in /usr/local/lib/python3.11/dist-packages (from rich->keras>=3.5.0->tensorflow==2.18.0->tensorflow_decision_forests) (2.18.0)\n",
            "Requirement already satisfied: mdurl~=0.1 in /usr/local/lib/python3.11/dist-packages (from markdown-it-py>=2.2.0->rich->keras>=3.5.0->tensorflow==2.18.0->tensorflow_decision_forests) (0.1.2)\n",
            "Requirement already satisfied: xgboost in /usr/local/lib/python3.11/dist-packages (2.1.4)\n",
            "Requirement already satisfied: numpy in /usr/local/lib/python3.11/dist-packages (from xgboost) (2.0.2)\n",
            "Requirement already satisfied: nvidia-nccl-cu12 in /usr/local/lib/python3.11/dist-packages (from xgboost) (2.21.5)\n",
            "Requirement already satisfied: scipy in /usr/local/lib/python3.11/dist-packages (from xgboost) (1.14.1)\n"
          ]
        }
      ],
      "source": [
        "!pip install tensorflowjs\n",
        "!pip install scikeras\n",
        "!pip install tensorflow_decision_forests\n",
        "!pip install xgboost"
      ]
    },
    {
      "cell_type": "code",
      "execution_count": null,
      "metadata": {
        "id": "zKmyjFJTPY8_"
      },
      "outputs": [],
      "source": [
        "import pandas as pd\n",
        "import numpy as np\n",
        "import seaborn as sns\n",
        "import matplotlib.pyplot as plt\n",
        "from sklearn.preprocessing import StandardScaler\n",
        "from sklearn.cluster import KMeans\n",
        "from sklearn.compose import ColumnTransformer\n",
        "from sklearn.pipeline import Pipeline\n",
        "from sklearn.decomposition import PCA\n",
        "from sklearn.linear_model import LogisticRegression\n",
        "from sklearn.model_selection import train_test_split, StratifiedKFold, GridSearchCV, cross_val_score\n",
        "from sklearn.preprocessing import LabelEncoder, StandardScaler, MinMaxScaler, OneHotEncoder\n",
        "from sklearn.neighbors import KNeighborsClassifier\n",
        "from sklearn.tree import DecisionTreeClassifier\n",
        "from sklearn.ensemble import RandomForestClassifier\n",
        "from sklearn.linear_model import LinearRegression\n",
        "from sklearn.metrics import silhouette_score\n",
        "from sklearn.svm import SVR\n",
        "from xgboost import XGBRegressor\n",
        "from sklearn.metrics import mean_squared_error, r2_score\n",
        "from sklearn.svm import SVC\n",
        "import pandas as pd\n",
        "from sklearn.model_selection import train_test_split\n",
        "from sklearn.ensemble import RandomForestClassifier\n",
        "from tensorflow.keras.models import Sequential\n",
        "from tensorflow.keras.layers import Dense\n",
        "from scikeras.wrappers import KerasClassifier\n",
        "from sklearn.preprocessing import LabelBinarizer\n",
        "from sklearn.naive_bayes import GaussianNB\n",
        "from sklearn.feature_selection import VarianceThreshold\n",
        "from sklearn.metrics import accuracy_score, f1_score, confusion_matrix, classification_report"
      ]
    },
    {
      "cell_type": "code",
      "execution_count": null,
      "metadata": {
        "id": "9lC1A-BCIHiO"
      },
      "outputs": [],
      "source": [
        "# from google.colab import files\n",
        "\n",
        "# uploaded = files.upload()"
      ]
    },
    {
      "cell_type": "markdown",
      "metadata": {},
      "source": [
        "## Mengecek Data"
      ]
    },
    {
      "cell_type": "code",
      "execution_count": null,
      "metadata": {
        "colab": {
          "base_uri": "https://localhost:8080/"
        },
        "id": "b4pDO_3iRcqp",
        "outputId": "8127d720-97ce-440f-cd58-aaad466c56c5"
      },
      "outputs": [
        {
          "name": "stdout",
          "output_type": "stream",
          "text": [
            "    Total_Pemasukan_Belum  Total_Pengeluaran_Belum  Total_Anggaran_Belum  \\\n",
            "0                16082229                  6803764               6822938   \n",
            "1                18685607                 14205667              14279645   \n",
            "2                12247530                  7649083               6628140   \n",
            "3                12178611                  9588350               6749203   \n",
            "4                19200902                 11450528               9771255   \n",
            "5                19326749                 13998907              13304751   \n",
            "6                12524028                 14696383              12031097   \n",
            "7                19994023                 16498938              18144129   \n",
            "8                 7997767                  5048282               3587973   \n",
            "9                12794603                  9189027               6730319   \n",
            "10                7837842                  5619636               4314224   \n",
            "11                9209033                 10993162              10341405   \n",
            "12               11775965                  3492816               2668620   \n",
            "13               14131662                 10736279               8469525   \n",
            "14               16734802                 15799311              16888555   \n",
            "15               12094261                 13118526              13572366   \n",
            "16               14983035                  9837324               9874867   \n",
            "17                8883183                  3691370               2822782   \n",
            "18               19860799                 14567054              10697195   \n",
            "19               19785062                 19661963              19193786   \n",
            "20               10515602                 11490405               9689049   \n",
            "21               14144568                 15134932              11718185   \n",
            "22               18788850                  8812113               9023820   \n",
            "23               10029513                  6983371               7473669   \n",
            "24               15957768                  3228203               3519421   \n",
            "25               15028102                 12244672               9143813   \n",
            "26                5508868                  5356073               5327647   \n",
            "27                6144694                  6780701               7159806   \n",
            "28                7115087                  6897978               6643406   \n",
            "29                9101484                  4653776               4166136   \n",
            "30                5081066                  4462038               3458951   \n",
            "31               11329713                  5508651               5845426   \n",
            "32               18948611                  4804606               4801458   \n",
            "33                4160421                  2932596               2454661   \n",
            "34               10443668                 10897424              10031851   \n",
            "35               16716142                 16061327              14350239   \n",
            "36               17096998                 20194367              21238617   \n",
            "37               15757430                 15898534              12584305   \n",
            "38               14719346                  4264494               4135400   \n",
            "39                4908474                  3500529               3213502   \n",
            "40               14061997                  9507716               8621986   \n",
            "41               13997005                  2860078               2418943   \n",
            "42                6312174                  3918506               3122534   \n",
            "43               18933318                 22419206              18012584   \n",
            "44               19931231                 13276742              14064944   \n",
            "45               11786616                  2612247               2014956   \n",
            "46               14210750                  7370456               5248533   \n",
            "47               15930155                 19004635              17555069   \n",
            "48                5414500                  2547357               2323763   \n",
            "49                5120174                  1544020               1526722   \n",
            "\n",
            "    Total_Tabungan_Belum Status_Kesehatan_Finansial  Total_Pemasukan  \\\n",
            "0                3004753                      Sehat         16100000   \n",
            "1                3542098            Perlu Perhatian         18700000   \n",
            "2                2009773            Perlu Perhatian         12200000   \n",
            "3                1450986            Perlu Perhatian         12200000   \n",
            "4                3921324            Perlu Perhatian         19200000   \n",
            "5                2670003            Perlu Perhatian         19300000   \n",
            "6                1381631                   Berisiko         12500000   \n",
            "7                3426507                   Berisiko         20000000   \n",
            "8                1995251            Perlu Perhatian          8000000   \n",
            "9                 727335            Perlu Perhatian         12800000   \n",
            "10                826429            Perlu Perhatian          7800000   \n",
            "11                700378                   Berisiko          9200000   \n",
            "12               2170005                      Sehat         11800000   \n",
            "13               2817942            Perlu Perhatian         14100000   \n",
            "14               1824972                   Berisiko         16700000   \n",
            "15               1182248                   Berisiko         12100000   \n",
            "16               2494101            Perlu Perhatian         15000000   \n",
            "17               1342322                      Sehat          8900000   \n",
            "18               3932287            Perlu Perhatian         19900000   \n",
            "19                116307                   Berisiko         19800000   \n",
            "20               1108070                   Berisiko         10500000   \n",
            "21               2241890                   Berisiko         14100000   \n",
            "22               3252629                      Sehat         18800000   \n",
            "23               2114612            Perlu Perhatian         10000000   \n",
            "24               2401170                      Sehat         16000000   \n",
            "25                877090                   Berisiko         15000000   \n",
            "26                191341                   Berisiko          5500000   \n",
            "27                456076                   Berisiko          6100000   \n",
            "28                450243                   Berisiko          7100000   \n",
            "29               1508476            Perlu Perhatian          9100000   \n",
            "30                988493                   Berisiko          5100000   \n",
            "31               4347316                      Sehat         11300000   \n",
            "32               4856832                      Sehat         18900000   \n",
            "33               1095465            Perlu Perhatian          4200000   \n",
            "34               2076086                   Berisiko         10400000   \n",
            "35               2419957                   Berisiko         16700000   \n",
            "36               1959388                   Berisiko         17100000   \n",
            "37               1944588                   Berisiko         15800000   \n",
            "38               4223315                      Sehat         14700000   \n",
            "39               1172418            Perlu Perhatian          4900000   \n",
            "40               3675732            Perlu Perhatian         14100000   \n",
            "41               5493572                      Sehat         14000000   \n",
            "42               1162864            Perlu Perhatian          6300000   \n",
            "43               3369782                   Berisiko         18900000   \n",
            "44               5146188            Perlu Perhatian         19900000   \n",
            "45               3159779                      Sehat         11800000   \n",
            "46               3843690            Perlu Perhatian         14200000   \n",
            "47                855814                   Berisiko         15900000   \n",
            "48               1173446                      Sehat          5400000   \n",
            "49                815008                      Sehat          5100000   \n",
            "\n",
            "    Total_Pengeluaran  Total_Anggaran  Total_Tabungan  \n",
            "0             6800000         6800000         3000000  \n",
            "1            14200000        14300000         3500000  \n",
            "2             7600000         6600000         2000000  \n",
            "3             9600000         6700000         1500000  \n",
            "4            11500000         9800000         3900000  \n",
            "5            14000000        13300000         2700000  \n",
            "6            14700000        12000000         1400000  \n",
            "7            16500000        18100000         3400000  \n",
            "8             5000000         3600000         2000000  \n",
            "9             9200000         6700000          700000  \n",
            "10            5600000         4300000          800000  \n",
            "11           11000000        10300000          700000  \n",
            "12            3500000         2700000         2200000  \n",
            "13           10700000         8500000         2800000  \n",
            "14           15800000        16900000         1800000  \n",
            "15           13100000        13600000         1200000  \n",
            "16            9800000         9900000         2500000  \n",
            "17            3700000         2800000         1300000  \n",
            "18           14600000        10700000         3900000  \n",
            "19           19700000        19200000          100000  \n",
            "20           11500000         9700000         1100000  \n",
            "21           15100000        11700000         2200000  \n",
            "22            8800000         9000000         3300000  \n",
            "23            7000000         7500000         2100000  \n",
            "24            3200000         3500000         2400000  \n",
            "25           12200000         9100000          900000  \n",
            "26            5400000         5300000          200000  \n",
            "27            6800000         7200000          500000  \n",
            "28            6900000         6600000          500000  \n",
            "29            4700000         4200000         1500000  \n",
            "30            4500000         3500000         1000000  \n",
            "31            5500000         5800000         4300000  \n",
            "32            4800000         4800000         4900000  \n",
            "33            2900000         2500000         1100000  \n",
            "34           10900000        10000000         2100000  \n",
            "35           16100000        14400000         2400000  \n",
            "36           20200000        21200000         2000000  \n",
            "37           15900000        12600000         1900000  \n",
            "38            4300000         4100000         4200000  \n",
            "39            3500000         3200000         1200000  \n",
            "40            9500000         8600000         3700000  \n",
            "41            2900000         2400000         5500000  \n",
            "42            3900000         3100000         1200000  \n",
            "43           22400000        18000000         3400000  \n",
            "44           13300000        14100000         5100000  \n",
            "45            2600000         2000000         3200000  \n",
            "46            7400000         5200000         3800000  \n",
            "47           19000000        17600000          900000  \n",
            "48            2500000         2300000         1200000  \n",
            "49            1500000         1500000          800000  \n"
          ]
        }
      ],
      "source": [
        "df = pd.read_csv('/content/financial_health_dataset_balanced.csv')\n",
        "print(df.head(50))"
      ]
    },
    {
      "cell_type": "code",
      "execution_count": null,
      "metadata": {
        "colab": {
          "base_uri": "https://localhost:8080/"
        },
        "id": "4q-okcEds-3X",
        "outputId": "f8c24f88-10ad-4e66-8e22-1625d6b01501"
      },
      "outputs": [
        {
          "name": "stdout",
          "output_type": "stream",
          "text": [
            "       Total_Pemasukan_Belum  Total_Pengeluaran_Belum  Total_Anggaran_Belum  \\\n",
            "count           5.100000e+03             5.100000e+03          5.100000e+03   \n",
            "mean            1.153187e+07             7.684015e+06          6.932902e+06   \n",
            "std             4.799267e+06             4.824364e+06          4.505211e+06   \n",
            "min             3.000564e+06             6.070890e+05          5.595620e+05   \n",
            "25%             7.421269e+06             3.943404e+06          3.470138e+06   \n",
            "50%             1.155910e+07             6.513612e+06          5.796566e+06   \n",
            "75%             1.553968e+07             1.054166e+07          9.348601e+06   \n",
            "max             1.999799e+07             2.370062e+07          2.470023e+07   \n",
            "\n",
            "       Total_Tabungan_Belum  Total_Pemasukan  Total_Pengeluaran  \\\n",
            "count          5.100000e+03     5.100000e+03       5.100000e+03   \n",
            "mean           2.012014e+06     1.153135e+07       7.684765e+06   \n",
            "std            1.459667e+06     4.799409e+06       4.824701e+06   \n",
            "min            4.110000e+02     3.000000e+06       6.000000e+05   \n",
            "25%            9.128625e+05     7.400000e+06       3.900000e+06   \n",
            "50%            1.672982e+06     1.160000e+07       6.500000e+06   \n",
            "75%            2.777436e+06     1.550000e+07       1.050000e+07   \n",
            "max            7.685582e+06     2.000000e+07       2.370000e+07   \n",
            "\n",
            "       Total_Anggaran  Total_Tabungan  \n",
            "count    5.100000e+03    5.100000e+03  \n",
            "mean     6.932863e+06    2.011529e+06  \n",
            "std      4.505203e+06    1.459705e+06  \n",
            "min      6.000000e+05    0.000000e+00  \n",
            "25%      3.500000e+06    9.000000e+05  \n",
            "50%      5.800000e+06    1.700000e+06  \n",
            "75%      9.325000e+06    2.800000e+06  \n",
            "max      2.470000e+07    7.700000e+06  \n"
          ]
        },
        {
          "data": {
            "text/plain": [
              "(5100, 9)"
            ]
          },
          "execution_count": 5,
          "metadata": {},
          "output_type": "execute_result"
        }
      ],
      "source": [
        "print(df.describe())\n",
        "df.shape"
      ]
    },
    {
      "cell_type": "markdown",
      "metadata": {
        "id": "-aHEdrhrSDPT"
      },
      "source": [
        "## EDA"
      ]
    },
    {
      "cell_type": "code",
      "execution_count": null,
      "metadata": {
        "colab": {
          "base_uri": "https://localhost:8080/"
        },
        "id": "jSlDY0o2SH1O",
        "outputId": "c30c460f-914f-4388-e9d1-cd1623681ffe"
      },
      "outputs": [
        {
          "name": "stdout",
          "output_type": "stream",
          "text": [
            "Jumlah baris: 5100\n",
            "Jumlah kolom: 9\n",
            "Total_Pemasukan_Belum          int64\n",
            "Total_Pengeluaran_Belum        int64\n",
            "Total_Anggaran_Belum           int64\n",
            "Total_Tabungan_Belum           int64\n",
            "Status_Kesehatan_Finansial    object\n",
            "Total_Pemasukan                int64\n",
            "Total_Pengeluaran              int64\n",
            "Total_Anggaran                 int64\n",
            "Total_Tabungan                 int64\n",
            "dtype: object\n"
          ]
        }
      ],
      "source": [
        "# Menampilkan jumlah baris dan kolom\n",
        "jumlah_baris = df.shape[0]\n",
        "jumlah_kolom = df.shape[1]\n",
        "print(f\"Jumlah baris: {jumlah_baris}\")\n",
        "print(f\"Jumlah kolom: {jumlah_kolom}\")\n",
        "\n",
        "# Menampilkan informasi tipe data setiap kolom\n",
        "print(df.dtypes)"
      ]
    },
    {
      "cell_type": "code",
      "execution_count": null,
      "metadata": {
        "colab": {
          "base_uri": "https://localhost:8080/"
        },
        "id": "yLuF3F09SJul",
        "outputId": "ff0c51c4-8dc0-4384-8dd8-d5c594158a85"
      },
      "outputs": [
        {
          "name": "stdout",
          "output_type": "stream",
          "text": [
            "Total_Pemasukan_Belum         0\n",
            "Total_Pengeluaran_Belum       0\n",
            "Total_Anggaran_Belum          0\n",
            "Total_Tabungan_Belum          0\n",
            "Status_Kesehatan_Finansial    0\n",
            "Total_Pemasukan               0\n",
            "Total_Pengeluaran             0\n",
            "Total_Anggaran                0\n",
            "Total_Tabungan                0\n",
            "dtype: int64\n"
          ]
        }
      ],
      "source": [
        "print(df.isnull().sum())\n",
        "# Tidak ditemukan data missing atau hilang"
      ]
    },
    {
      "cell_type": "markdown",
      "metadata": {},
      "source": [
        "### Mendeteksi Apakah Ada Duplikat"
      ]
    },
    {
      "cell_type": "code",
      "execution_count": null,
      "metadata": {
        "colab": {
          "base_uri": "https://localhost:8080/"
        },
        "id": "ki5RwdbLUXfV",
        "outputId": "fcb8d1a4-f52d-41c5-eb96-f7539ba482d7"
      },
      "outputs": [
        {
          "name": "stdout",
          "output_type": "stream",
          "text": [
            "Jumlah duplikasi: 0\n"
          ]
        }
      ],
      "source": [
        "# Cek jumlah data duplikat\n",
        "print(\"Jumlah duplikasi:\", df.duplicated().sum())"
      ]
    },
    {
      "cell_type": "markdown",
      "metadata": {},
      "source": [
        "### Menghilangkan Data Yang Tidak Terpakai"
      ]
    },
    {
      "cell_type": "code",
      "execution_count": null,
      "metadata": {
        "id": "zAqdXpgxYrdM"
      },
      "outputs": [],
      "source": [
        "drop_columns = ['Total_Pemasukan_Belum','Total_Pengeluaran_Belum','Total_Anggaran_Belum','Total_Tabungan_Belum',]\n",
        "df.drop(drop_columns, axis=1, inplace=True)"
      ]
    },
    {
      "cell_type": "code",
      "execution_count": null,
      "metadata": {
        "id": "q5ucTDEPPbf7"
      },
      "outputs": [],
      "source": [
        "drop_columns = ['Total_Anggaran','Total_Tabungan']\n",
        "df.drop(drop_columns, axis=1, inplace=True)"
      ]
    },
    {
      "cell_type": "code",
      "execution_count": null,
      "metadata": {
        "colab": {
          "base_uri": "https://localhost:8080/"
        },
        "id": "T9Fc1Ro5Z_2h",
        "outputId": "30b09073-c933-4439-a1d0-5b402d0abf4f"
      },
      "outputs": [
        {
          "name": "stdout",
          "output_type": "stream",
          "text": [
            "   Status_Kesehatan_Finansial  Total_Pemasukan  Total_Pengeluaran\n",
            "0                       Sehat         16100000            6800000\n",
            "1             Perlu Perhatian         18700000           14200000\n",
            "2             Perlu Perhatian         12200000            7600000\n",
            "3             Perlu Perhatian         12200000            9600000\n",
            "4             Perlu Perhatian         19200000           11500000\n",
            "5             Perlu Perhatian         19300000           14000000\n",
            "6                    Berisiko         12500000           14700000\n",
            "7                    Berisiko         20000000           16500000\n",
            "8             Perlu Perhatian          8000000            5000000\n",
            "9             Perlu Perhatian         12800000            9200000\n",
            "10            Perlu Perhatian          7800000            5600000\n",
            "11                   Berisiko          9200000           11000000\n",
            "12                      Sehat         11800000            3500000\n",
            "13            Perlu Perhatian         14100000           10700000\n",
            "14                   Berisiko         16700000           15800000\n",
            "15                   Berisiko         12100000           13100000\n",
            "16            Perlu Perhatian         15000000            9800000\n",
            "17                      Sehat          8900000            3700000\n",
            "18            Perlu Perhatian         19900000           14600000\n",
            "19                   Berisiko         19800000           19700000\n",
            "20                   Berisiko         10500000           11500000\n",
            "21                   Berisiko         14100000           15100000\n",
            "22                      Sehat         18800000            8800000\n",
            "23            Perlu Perhatian         10000000            7000000\n",
            "24                      Sehat         16000000            3200000\n",
            "25                   Berisiko         15000000           12200000\n",
            "26                   Berisiko          5500000            5400000\n",
            "27                   Berisiko          6100000            6800000\n",
            "28                   Berisiko          7100000            6900000\n",
            "29            Perlu Perhatian          9100000            4700000\n",
            "30                   Berisiko          5100000            4500000\n",
            "31                      Sehat         11300000            5500000\n",
            "32                      Sehat         18900000            4800000\n",
            "33            Perlu Perhatian          4200000            2900000\n",
            "34                   Berisiko         10400000           10900000\n",
            "35                   Berisiko         16700000           16100000\n",
            "36                   Berisiko         17100000           20200000\n",
            "37                   Berisiko         15800000           15900000\n",
            "38                      Sehat         14700000            4300000\n",
            "39            Perlu Perhatian          4900000            3500000\n",
            "40            Perlu Perhatian         14100000            9500000\n",
            "41                      Sehat         14000000            2900000\n",
            "42            Perlu Perhatian          6300000            3900000\n",
            "43                   Berisiko         18900000           22400000\n",
            "44            Perlu Perhatian         19900000           13300000\n",
            "45                      Sehat         11800000            2600000\n",
            "46            Perlu Perhatian         14200000            7400000\n",
            "47                   Berisiko         15900000           19000000\n",
            "48                      Sehat          5400000            2500000\n",
            "49                      Sehat          5100000            1500000\n"
          ]
        }
      ],
      "source": [
        "print(df.head(50))"
      ]
    },
    {
      "cell_type": "markdown",
      "metadata": {},
      "source": [
        "### Analisis Distribusi dan Korelasi"
      ]
    },
    {
      "cell_type": "code",
      "execution_count": null,
      "metadata": {
        "colab": {
          "base_uri": "https://localhost:8080/",
          "height": 1000
        },
        "id": "981PZYNBSLUb",
        "outputId": "a492acab-e861-4c0b-bf90-97dd13a5d357"
      },
      "outputs": [
        {
          "name": "stdout",
          "output_type": "stream",
          "text": [
            "       Total_Pemasukan  Total_Pengeluaran\n",
            "count             5100               5100\n",
            "mean          11531352            7684764\n",
            "std            4799409            4824701\n",
            "min            3000000             600000\n",
            "25%            7400000            3900000\n",
            "50%           11600000            6500000\n",
            "75%           15500000           10500000\n",
            "max           20000000           23700000\n"
          ]
        },
        {
          "data": {
            "image/png": "[encoded data removed]",
            "text/plain": [
              "<Figure size 640x480 with 1 Axes>"
            ]
          },
          "metadata": {},
          "output_type": "display_data"
        },
        {
          "data": {
            "image/png": "[encoded data removed]",
            "text/plain": [
              "<Figure size 640x480 with 1 Axes>"
            ]
          },
          "metadata": {},
          "output_type": "display_data"
        }
      ],
      "source": [
        "describe_df = df.describe()\n",
        "\n",
        "# Mengubah tipe data kolom yang tidak mengandung desimal menjadi integer\n",
        "for column in describe_df.columns:\n",
        "    if df[column].dtype == 'int64':\n",
        "        describe_df[column] = describe_df[column].astype(int)\n",
        "print(describe_df)\n",
        "\n",
        "# Visualisasi distribusi data numerik dengan boxplot\n",
        "for column in df.select_dtypes(include='number').columns:\n",
        "    sns.boxplot(x=df[column])\n",
        "    plt.title(f'Boxplot {column}')\n",
        "    plt.show()"
      ]
    },
    {
      "cell_type": "code",
      "execution_count": null,
      "metadata": {
        "colab": {
          "base_uri": "https://localhost:8080/",
          "height": 927
        },
        "id": "xPWfSwX4Qf1Y",
        "outputId": "a0e07e3e-15f5-4cbf-c939-ed56bc1739f3"
      },
      "outputs": [
        {
          "data": {
            "image/png": "[encoded data removed]",
            "text/plain": [
              "<Figure size 640x480 with 1 Axes>"
            ]
          },
          "metadata": {},
          "output_type": "display_data"
        },
        {
          "data": {
            "image/png": "[encoded data removed]",
            "text/plain": [
              "<Figure size 640x480 with 1 Axes>"
            ]
          },
          "metadata": {},
          "output_type": "display_data"
        }
      ],
      "source": [
        "import pandas as pd\n",
        "import numpy as np\n",
        "import seaborn as sns\n",
        "import matplotlib.pyplot as plt\n",
        "\n",
        "def remove_outliers_iqr(df, column):\n",
        "    Q1 = df[column].quantile(0.25)\n",
        "    Q3 = df[column].quantile(0.75)\n",
        "    IQR = Q3 - Q1\n",
        "    lower_bound = Q1 - 1.5 * IQR\n",
        "    upper_bound = Q3 + 1.5 * IQR\n",
        "    df_filtered = df[(df[column] >= lower_bound) & (df[column] <= upper_bound)]\n",
        "    return df_filtered\n",
        "\n",
        "# Menghapus outlier menggunakan metode IQR untuk semua kolom numerik\n",
        "for column in df.select_dtypes(include='number').columns:\n",
        "    df = remove_outliers_iqr(df, column)\n",
        "\n",
        "# Visualisasi distribusi data numerik dengan boxplot setelah menghilangkan outlier\n",
        "for column in df.select_dtypes(include='number').columns:\n",
        "    sns.boxplot(x=df[column])\n",
        "    plt.title(f'Boxplot {column} (Outliers Removed)')\n",
        "    plt.show()"
      ]
    },
    {
      "cell_type": "markdown",
      "metadata": {
        "id": "xNsZu0_MUZEe"
      },
      "source": [
        "## Preprocess\n"
      ]
    },
    {
      "cell_type": "code",
      "execution_count": null,
      "metadata": {
        "id": "mXPASRa5X-lR"
      },
      "outputs": [],
      "source": [
        "X = df.drop('Status_Kesehatan_Finansial', axis=1)\n",
        "y = df['Status_Kesehatan_Finansial']"
      ]
    },
    {
      "cell_type": "code",
      "execution_count": null,
      "metadata": {
        "id": "ZU98d6SMWYf9"
      },
      "outputs": [],
      "source": [
        "label_encoder = LabelEncoder()\n",
        "y = label_encoder.fit_transform(y)\n",
        "df['Status_Kesehatan_Finansial'] = label_encoder.fit_transform(df['Status_Kesehatan_Finansial'])\n",
        "\n",
        "# b. One-Hot Encoding for categorical features:\n",
        "categorical_features = X.select_dtypes(include=['object']).columns\n",
        "X_encoded = pd.get_dummies(X, columns=categorical_features, drop_first=True)\n",
        "\n",
        "# c. Scaling for numerical features:\n",
        "numerical_features = X_encoded.select_dtypes(include=['number']).columns\n",
        "scaler = StandardScaler()\n",
        "X_encoded[numerical_features] = scaler.fit_transform(X_encoded[numerical_features])"
      ]
    },
    {
      "cell_type": "code",
      "execution_count": null,
      "metadata": {
        "colab": {
          "base_uri": "https://localhost:8080/"
        },
        "id": "s8sIgatz3aoE",
        "outputId": "37b91ef4-72f3-4538-c342-17850ee029dd"
      },
      "outputs": [
        {
          "name": "stdout",
          "output_type": "stream",
          "text": [
            "   Total_Pemasukan  Total_Pengeluaran\n",
            "0         0.984763          -0.150197\n",
            "1         1.532373           1.474486\n",
            "2         0.163347           0.025444\n",
            "3         0.163347           0.464548\n",
            "4         1.637683           0.881696\n"
          ]
        }
      ],
      "source": [
        "print(X_encoded.head())"
      ]
    },
    {
      "cell_type": "code",
      "execution_count": null,
      "metadata": {
        "colab": {
          "base_uri": "https://localhost:8080/"
        },
        "id": "9BgLCIhd3zGO",
        "outputId": "550e5307-f091-406f-8e07-ba04fc60ab82"
      },
      "outputs": [
        {
          "name": "stdout",
          "output_type": "stream",
          "text": [
            "    Original Label  Encoded Label\n",
            "0                2              2\n",
            "1                1              1\n",
            "2                1              1\n",
            "3                1              1\n",
            "4                1              1\n",
            "5                1              1\n",
            "6                0              0\n",
            "7                0              0\n",
            "8                1              1\n",
            "9                1              1\n",
            "10               1              1\n",
            "11               0              0\n",
            "12               2              2\n",
            "13               1              1\n",
            "14               0              0\n",
            "15               0              0\n",
            "16               1              1\n",
            "17               2              2\n",
            "18               1              1\n",
            "19               0              0\n"
          ]
        }
      ],
      "source": [
        "# Mengecek hasil encoding dan scaling\n",
        "comparison_df = pd.DataFrame({'Original Label': df['Status_Kesehatan_Finansial'],\n",
        "                             'Encoded Label': y})\n",
        "\n",
        "# Display the comparison\n",
        "print(comparison_df.head(20)) # Displaying first 20 rows for demonstration. Adjust as needed"
      ]
    },
    {
      "cell_type": "markdown",
      "metadata": {
        "id": "sDjx8g3wFvWe"
      },
      "source": [
        "Penjelasan encoding :  \n",
        "Sehat | 2  \n",
        "Perlu Perhatian | 1  \n",
        "Beresiko | 0"
      ]
    },
    {
      "cell_type": "code",
      "execution_count": null,
      "metadata": {
        "id": "kYKMNaxPVR8Z"
      },
      "outputs": [],
      "source": [
        "X_train, X_test, y_train, y_test = train_test_split(X, y, test_size=0.2, random_state=42)"
      ]
    },
    {
      "cell_type": "code",
      "execution_count": null,
      "metadata": {
        "id": "GlGoV-EQVTKp"
      },
      "outputs": [],
      "source": [
        "numerical_features = X.select_dtypes(include=['number']).columns\n",
        "categorical_features = X.select_dtypes(include=['object']).columns"
      ]
    },
    {
      "cell_type": "code",
      "execution_count": null,
      "metadata": {
        "id": "NTKAyRyzVVKT"
      },
      "outputs": [],
      "source": [
        "# Preprocessing untuk kolom numerik\n",
        "numerical_transformer = Pipeline(steps=[\n",
        "    ('scaler', StandardScaler())\n",
        "])\n",
        "\n",
        "# Preprocessing untuk kolom kategorikal\n",
        "categorical_transformer = Pipeline(steps=[\n",
        "    ('onehot', OneHotEncoder(handle_unknown='ignore'))\n",
        "])\n",
        "\n",
        "# Gabungkan preprocessing numerik dan kategorikal\n",
        "preprocessor = ColumnTransformer(\n",
        "    transformers=[\n",
        "        ('num', numerical_transformer, numerical_features),\n",
        "        ('cat', categorical_transformer, categorical_features)\n",
        "    ])"
      ]
    },
    {
      "cell_type": "code",
      "execution_count": null,
      "metadata": {
        "id": "gtj0juMgVguI"
      },
      "outputs": [],
      "source": [
        "X_train_preprocessed = preprocessor.fit_transform(X_train)\n",
        "X_test_preprocessed = preprocessor.transform(X_test)"
      ]
    },
    {
      "cell_type": "markdown",
      "metadata": {
        "id": "QrgUvWPHV31J"
      },
      "source": [
        "## Models\n"
      ]
    },
    {
      "cell_type": "code",
      "execution_count": null,
      "metadata": {
        "colab": {
          "base_uri": "https://localhost:8080/"
        },
        "id": "GdkOhZl9pYNH",
        "outputId": "81e9d05a-e29f-4f45-a4d5-c3d6993902da"
      },
      "outputs": [
        {
          "name": "stdout",
          "output_type": "stream",
          "text": [
            "Accuracy: 0.9721669980119284\n",
            "Classification Report:\n",
            "               precision    recall  f1-score   support\n",
            "\n",
            "           0       0.99      0.96      0.97       334\n",
            "           1       0.93      0.98      0.96       319\n",
            "           2       0.99      0.98      0.99       353\n",
            "\n",
            "    accuracy                           0.97      1006\n",
            "   macro avg       0.97      0.97      0.97      1006\n",
            "weighted avg       0.97      0.97      0.97      1006\n",
            "\n",
            "Confusion Matrix:\n",
            " [[320  14   0]\n",
            " [  4 313   2]\n",
            " [  0   8 345]]\n"
          ]
        },
        {
          "name": "stderr",
          "output_type": "stream",
          "text": [
            "/usr/local/lib/python3.11/dist-packages/xgboost/core.py:158: UserWarning: [16:04:09] WARNING: /workspace/src/learner.cc:740: \n",
            "Parameters: { \"use_label_encoder\" } are not used.\n",
            "\n",
            "  warnings.warn(smsg, UserWarning)\n"
          ]
        }
      ],
      "source": [
        "from xgboost import XGBClassifier\n",
        "from sklearn.model_selection import train_test_split\n",
        "from sklearn.preprocessing import LabelEncoder, StandardScaler\n",
        "from sklearn.metrics import classification_report, accuracy_score, confusion_matrix\n",
        "\n",
        "# Ambil fitur dan label\n",
        "X = df[['Total_Pemasukan', 'Total_Pengeluaran']]\n",
        "y = df['Status_Kesehatan_Finansial']\n",
        "\n",
        "# Encode label\n",
        "le = LabelEncoder()\n",
        "y_encoded = le.fit_transform(y)\n",
        "\n",
        "# Scaling\n",
        "scaler = StandardScaler()\n",
        "X_scaled = scaler.fit_transform(X)\n",
        "\n",
        "# Train-test split\n",
        "X_train, X_test, y_train, y_test = train_test_split(X_scaled, y_encoded, test_size=0.2, random_state=42)\n",
        "\n",
        "# Train XGBoost\n",
        "xgb_model = XGBClassifier(\n",
        "    n_estimators=50,\n",
        "    max_depth=3,\n",
        "    use_label_encoder=False,\n",
        "    eval_metric='mlogloss',\n",
        "    n_jobs=-1\n",
        ")\n",
        "xgb_model.fit(X_train, y_train)\n",
        "\n",
        "# Evaluasi\n",
        "y_pred = xgb_model.predict(X_test)\n",
        "print(\"Accuracy:\", accuracy_score(y_test, y_pred))\n",
        "print(\"Classification Report:\\n\", classification_report(y_test, y_pred, target_names=le.classes_.astype(str)))\n",
        "print(\"Confusion Matrix:\\n\", confusion_matrix(y_test, y_pred))"
      ]
    },
    {
      "cell_type": "code",
      "execution_count": null,
      "metadata": {
        "colab": {
          "base_uri": "https://localhost:8080/",
          "height": 772
        },
        "id": "X51pAJ_aTQrw",
        "outputId": "edb28983-6c5f-4fe3-8bb5-cb4dba5f6808"
      },
      "outputs": [
        {
          "name": "stdout",
          "output_type": "stream",
          "text": [
            "Akurasi XGBoost: 0.9722\n",
            "Classification Report XGBoost:\n",
            "              precision    recall  f1-score   support\n",
            "\n",
            "           0       0.99      0.96      0.97       334\n",
            "           1       0.93      0.98      0.96       319\n",
            "           2       0.99      0.98      0.99       353\n",
            "\n",
            "    accuracy                           0.97      1006\n",
            "   macro avg       0.97      0.97      0.97      1006\n",
            "weighted avg       0.97      0.97      0.97      1006\n",
            "\n"
          ]
        },
        {
          "data": {
            "image/png": "[encoded data removed]",
            "text/plain": [
              "<Figure size 800x600 with 2 Axes>"
            ]
          },
          "metadata": {},
          "output_type": "display_data"
        }
      ],
      "source": [
        "y_pred_xgb = xgb_model.predict(X_test)\n",
        "\n",
        "# Akurasi\n",
        "acc_xgb = accuracy_score(y_test, y_pred_xgb)\n",
        "print(f\"Akurasi XGBoost: {acc_xgb:.4f}\")\n",
        "\n",
        "# Classification Report\n",
        "print(\"Classification Report XGBoost:\")\n",
        "print(classification_report(y_test, y_pred_xgb))\n",
        "\n",
        "# Confusion Matrix\n",
        "cm = confusion_matrix(y_test, y_pred_xgb)\n",
        "plt.figure(figsize=(8, 6))\n",
        "sns.heatmap(cm, annot=True, fmt='d', cmap='Blues', xticklabels=label_encoder.classes_, yticklabels=label_encoder.classes_)\n",
        "plt.xlabel('Predicted')\n",
        "plt.ylabel('Actual')\n",
        "plt.title('Confusion Matrix XGBoost')\n",
        "plt.show()"
      ]
    },
    {
      "cell_type": "markdown",
      "metadata": {},
      "source": [
        "### Save model"
      ]
    },
    {
      "cell_type": "code",
      "execution_count": null,
      "metadata": {
        "colab": {
          "base_uri": "https://localhost:8080/"
        },
        "id": "zParh2NOpjCe",
        "outputId": "9f061344-10c9-4c29-979b-d22a55db759c"
      },
      "outputs": [
        {
          "data": {
            "text/plain": [
              "['xgb_model.pkl']"
            ]
          },
          "execution_count": 34,
          "metadata": {},
          "output_type": "execute_result"
        }
      ],
      "source": [
        "import joblib\n",
        "\n",
        "joblib.dump(xgb_model, 'xgb_model.pkl')"
      ]
    },
    {
      "cell_type": "code",
      "execution_count": null,
      "metadata": {
        "colab": {
          "base_uri": "https://localhost:8080/",
          "height": 1000
        },
        "id": "Z5FqRyA5TnDx",
        "outputId": "23bf250a-aef4-474c-adea-653208af7a4f"
      },
      "outputs": [
        {
          "name": "stdout",
          "output_type": "stream",
          "text": [
            "Collecting skl2onnx\n",
            "  Downloading skl2onnx-1.18.0-py2.py3-none-any.whl.metadata (3.2 kB)\n",
            "Collecting onnx>=1.2.1 (from skl2onnx)\n",
            "  Downloading onnx-1.17.0-cp311-cp311-manylinux_2_17_x86_64.manylinux2014_x86_64.whl.metadata (16 kB)\n",
            "Requirement already satisfied: scikit-learn>=1.1 in /usr/local/lib/python3.11/dist-packages (from skl2onnx) (1.6.1)\n",
            "Collecting onnxconverter-common>=1.7.0 (from skl2onnx)\n",
            "  Downloading onnxconverter_common-1.14.0-py2.py3-none-any.whl.metadata (4.2 kB)\n",
            "Requirement already satisfied: numpy>=1.20 in /usr/local/lib/python3.11/dist-packages (from onnx>=1.2.1->skl2onnx) (2.0.2)\n",
            "Requirement already satisfied: protobuf>=3.20.2 in /usr/local/lib/python3.11/dist-packages (from onnx>=1.2.1->skl2onnx) (5.29.4)\n",
            "Requirement already satisfied: packaging in /usr/local/lib/python3.11/dist-packages (from onnxconverter-common>=1.7.0->skl2onnx) (23.2)\n",
            "Collecting protobuf>=3.20.2 (from onnx>=1.2.1->skl2onnx)\n",
            "  Downloading protobuf-3.20.2-py2.py3-none-any.whl.metadata (720 bytes)\n",
            "Requirement already satisfied: scipy>=1.6.0 in /usr/local/lib/python3.11/dist-packages (from scikit-learn>=1.1->skl2onnx) (1.14.1)\n",
            "Requirement already satisfied: joblib>=1.2.0 in /usr/local/lib/python3.11/dist-packages (from scikit-learn>=1.1->skl2onnx) (1.4.2)\n",
            "Requirement already satisfied: threadpoolctl>=3.1.0 in /usr/local/lib/python3.11/dist-packages (from scikit-learn>=1.1->skl2onnx) (3.6.0)\n",
            "Downloading skl2onnx-1.18.0-py2.py3-none-any.whl (300 kB)\n",
            "\u001b[2K   \u001b[90m━━━━━━━━━━━━━━━━━━━━━━━━━━━━━━━━━━━━━━━━\u001b[0m \u001b[32m300.3/300.3 kB\u001b[0m \u001b[31m6.5 MB/s\u001b[0m eta \u001b[36m0:00:00\u001b[0m\n",
            "\u001b[?25hDownloading onnx-1.17.0-cp311-cp311-manylinux_2_17_x86_64.manylinux2014_x86_64.whl (16.0 MB)\n",
            "\u001b[2K   \u001b[90m━━━━━━━━━━━━━━━━━━━━━━━━━━━━━━━━━━━━━━━━\u001b[0m \u001b[32m16.0/16.0 MB\u001b[0m \u001b[31m55.2 MB/s\u001b[0m eta \u001b[36m0:00:00\u001b[0m\n",
            "\u001b[?25hDownloading onnxconverter_common-1.14.0-py2.py3-none-any.whl (84 kB)\n",
            "\u001b[2K   \u001b[90m━━━━━━━━━━━━━━━━━━━━━━━━━━━━━━━━━━━━━━━━\u001b[0m \u001b[32m84.5/84.5 kB\u001b[0m \u001b[31m4.7 MB/s\u001b[0m eta \u001b[36m0:00:00\u001b[0m\n",
            "\u001b[?25hDownloading protobuf-3.20.2-py2.py3-none-any.whl (162 kB)\n",
            "\u001b[2K   \u001b[90m━━━━━━━━━━━━━━━━━━━━━━━━━━━━━━━━━━━━━━━━\u001b[0m \u001b[32m162.1/162.1 kB\u001b[0m \u001b[31m9.1 MB/s\u001b[0m eta \u001b[36m0:00:00\u001b[0m\n",
            "\u001b[?25hInstalling collected packages: protobuf, onnx, onnxconverter-common, skl2onnx\n",
            "  Attempting uninstall: protobuf\n",
            "    Found existing installation: protobuf 5.29.4\n",
            "    Uninstalling protobuf-5.29.4:\n",
            "      Successfully uninstalled protobuf-5.29.4\n",
            "\u001b[31mERROR: pip's dependency resolver does not currently take into account all the packages that are installed. This behaviour is the source of the following dependency conflicts.\n",
            "tensorflow-metadata 1.17.0 requires protobuf<6.0.0,>=4.25.2; python_version >= \"3.11\", but you have protobuf 3.20.2 which is incompatible.\n",
            "grpcio-status 1.71.0 requires protobuf<6.0dev,>=5.26.1, but you have protobuf 3.20.2 which is incompatible.\n",
            "ydf 0.11.0 requires protobuf<6.0.0,>=5.29.1, but you have protobuf 3.20.2 which is incompatible.\n",
            "tensorflow 2.18.0 requires protobuf!=4.21.0,!=4.21.1,!=4.21.2,!=4.21.3,!=4.21.4,!=4.21.5,<6.0.0dev,>=3.20.3, but you have protobuf 3.20.2 which is incompatible.\n",
            "google-cloud-bigquery 3.31.0 requires packaging>=24.2.0, but you have packaging 23.2 which is incompatible.\u001b[0m\u001b[31m\n",
            "\u001b[0mSuccessfully installed onnx-1.17.0 onnxconverter-common-1.14.0 protobuf-3.20.2 skl2onnx-1.18.0\n"
          ]
        },
        {
          "data": {
            "application/vnd.colab-display-data+json": {
              "id": "41010645c0ed4768b988f372b0a8c48a",
              "pip_warning": {
                "packages": [
                  "google"
                ]
              }
            }
          },
          "metadata": {},
          "output_type": "display_data"
        },
        {
          "name": "stdout",
          "output_type": "stream",
          "text": [
            "Collecting onnxruntime\n",
            "  Downloading onnxruntime-1.21.0-cp311-cp311-manylinux_2_27_x86_64.manylinux_2_28_x86_64.whl.metadata (4.5 kB)\n",
            "Collecting coloredlogs (from onnxruntime)\n",
            "  Downloading coloredlogs-15.0.1-py2.py3-none-any.whl.metadata (12 kB)\n",
            "Requirement already satisfied: flatbuffers in /usr/local/lib/python3.11/dist-packages (from onnxruntime) (25.2.10)\n",
            "Requirement already satisfied: numpy>=1.21.6 in /usr/local/lib/python3.11/dist-packages (from onnxruntime) (2.0.2)\n",
            "Requirement already satisfied: packaging in /usr/local/lib/python3.11/dist-packages (from onnxruntime) (23.2)\n",
            "Requirement already satisfied: protobuf in /usr/local/lib/python3.11/dist-packages (from onnxruntime) (3.20.2)\n",
            "Requirement already satisfied: sympy in /usr/local/lib/python3.11/dist-packages (from onnxruntime) (1.13.1)\n",
            "Collecting humanfriendly>=9.1 (from coloredlogs->onnxruntime)\n",
            "  Downloading humanfriendly-10.0-py2.py3-none-any.whl.metadata (9.2 kB)\n",
            "Requirement already satisfied: mpmath<1.4,>=1.1.0 in /usr/local/lib/python3.11/dist-packages (from sympy->onnxruntime) (1.3.0)\n",
            "Downloading onnxruntime-1.21.0-cp311-cp311-manylinux_2_27_x86_64.manylinux_2_28_x86_64.whl (16.0 MB)\n",
            "\u001b[2K   \u001b[90m━━━━━━━━━━━━━━━━━━━━━━━━━━━━━━━━━━━━━━━━\u001b[0m \u001b[32m16.0/16.0 MB\u001b[0m \u001b[31m76.3 MB/s\u001b[0m eta \u001b[36m0:00:00\u001b[0m\n",
            "\u001b[?25hDownloading coloredlogs-15.0.1-py2.py3-none-any.whl (46 kB)\n",
            "\u001b[2K   \u001b[90m━━━━━━━━━━━━━━━━━━━━━━━━━━━━━━━━━━━━━━━━\u001b[0m \u001b[32m46.0/46.0 kB\u001b[0m \u001b[31m2.5 MB/s\u001b[0m eta \u001b[36m0:00:00\u001b[0m\n",
            "\u001b[?25hDownloading humanfriendly-10.0-py2.py3-none-any.whl (86 kB)\n",
            "\u001b[2K   \u001b[90m━━━━━━━━━━━━━━━━━━━━━━━━━━━━━━━━━━━━━━━━\u001b[0m \u001b[32m86.8/86.8 kB\u001b[0m \u001b[31m5.8 MB/s\u001b[0m eta \u001b[36m0:00:00\u001b[0m\n",
            "\u001b[?25hInstalling collected packages: humanfriendly, coloredlogs, onnxruntime\n",
            "Successfully installed coloredlogs-15.0.1 humanfriendly-10.0 onnxruntime-1.21.0\n"
          ]
        }
      ],
      "source": [
        "!pip install skl2onnx\n",
        "!pip install onnxruntime"
      ]
    },
    {
      "cell_type": "code",
      "execution_count": null,
      "metadata": {
        "id": "u_LajUsiE2IM"
      },
      "outputs": [],
      "source": [
        "from tensorflow.keras.models import save_model\n",
        "import tensorflowjs as tfjs\n",
        "import pickle\n",
        "from skl2onnx import convert_sklearn\n",
        "from skl2onnx.common.data_types import FloatTensorType\n",
        "import onnxruntime as rt\n",
        "import tensorflow_decision_forests as tfdf"
      ]
    },
    {
      "cell_type": "code",
      "execution_count": null,
      "metadata": {
        "colab": {
          "base_uri": "https://localhost:8080/",
          "height": 234
        },
        "id": "38T3duk4ouIu",
        "outputId": "e2c4c8dd-6948-4cca-fc68-2f30dfe5b316"
      },
      "outputs": [
        {
          "name": "stdout",
          "output_type": "stream",
          "text": [
            "Features used in the model:\n",
            "Total_Pemasukan\n",
            "Total_Pengeluaran\n",
            "\n",
            "Feature Importances:\n"
          ]
        },
        {
          "data": {
            "text/html": [
              "<div>\n",
              "<style scoped>\n",
              "    .dataframe tbody tr th:only-of-type {\n",
              "        vertical-align: middle;\n",
              "    }\n",
              "\n",
              "    .dataframe tbody tr th {\n",
              "        vertical-align: top;\n",
              "    }\n",
              "\n",
              "    .dataframe thead th {\n",
              "        text-align: right;\n",
              "    }\n",
              "</style>\n",
              "<table border=\"1\" class=\"dataframe\">\n",
              "  <thead>\n",
              "    <tr style=\"text-align: right;\">\n",
              "      <th></th>\n",
              "      <th>0</th>\n",
              "    </tr>\n",
              "  </thead>\n",
              "  <tbody>\n",
              "    <tr>\n",
              "      <th>Total_Pengeluaran</th>\n",
              "      <td>0.622308</td>\n",
              "    </tr>\n",
              "    <tr>\n",
              "      <th>Total_Pemasukan</th>\n",
              "      <td>0.377692</td>\n",
              "    </tr>\n",
              "  </tbody>\n",
              "</table>\n",
              "</div><br><label><b>dtype:</b> float64</label>"
            ],
            "text/plain": [
              "Total_Pengeluaran    0.622308\n",
              "Total_Pemasukan      0.377692\n",
              "dtype: float64"
            ]
          },
          "execution_count": 29,
          "metadata": {},
          "output_type": "execute_result"
        }
      ],
      "source": [
        "# Periksa apakah ada fitur kategoris sebelum mengakses OneHotEncoder\n",
        "if len(categorical_features) > 0:\n",
        "\n",
        "    feature_names = list(preprocessor.named_transformers_['cat']['onehot'].get_feature_names_out(categorical_features))\n",
        "    feature_names.extend(numerical_features)\n",
        "else:\n",
        "    # If no categorical features, use only numerical features\n",
        "    feature_names = list(numerical_features)\n",
        "\n",
        "print(\"Features used in the model:\")\n",
        "for feature in feature_names:\n",
        "    print(feature)\n",
        "\n",
        "# Access and print the feature importances from the trained RandomForestClassifier model\n",
        "importances = model.feature_importances_\n",
        "feature_importances = pd.Series(importances, index=feature_names).sort_values(ascending=False)\n",
        "print(\"\\nFeature Importances:\")\n",
        "feature_importances"
      ]
    },
    {
      "cell_type": "code",
      "execution_count": null,
      "metadata": {
        "colab": {
          "base_uri": "https://localhost:8080/"
        },
        "id": "jaUj6CbwyDG5",
        "outputId": "46610523-04cd-47f1-d6a8-e85d52879f70"
      },
      "outputs": [
        {
          "name": "stdout",
          "output_type": "stream",
          "text": [
            "2025-04-14 13:07:05.263694: E external/local_xla/xla/stream_executor/cuda/cuda_fft.cc:467] Unable to register cuFFT factory: Attempting to register factory for plugin cuFFT when one has already been registered\n",
            "WARNING: All log messages before absl::InitializeLog() is called are written to STDERR\n",
            "E0000 00:00:1744636025.284089    5893 cuda_dnn.cc:8579] Unable to register cuDNN factory: Attempting to register factory for plugin cuDNN when one has already been registered\n",
            "E0000 00:00:1744636025.290075    5893 cuda_blas.cc:1407] Unable to register cuBLAS factory: Attempting to register factory for plugin cuBLAS when one has already been registered\n",
            "W0000 00:00:1744636025.305766    5893 computation_placer.cc:177] computation placer already registered. Please check linkage and avoid linking the same target more than once.\n",
            "W0000 00:00:1744636025.305790    5893 computation_placer.cc:177] computation placer already registered. Please check linkage and avoid linking the same target more than once.\n",
            "W0000 00:00:1744636025.305793    5893 computation_placer.cc:177] computation placer already registered. Please check linkage and avoid linking the same target more than once.\n",
            "W0000 00:00:1744636025.305796    5893 computation_placer.cc:177] computation placer already registered. Please check linkage and avoid linking the same target more than once.\n",
            "Traceback (most recent call last):\n",
            "  File \"/usr/local/bin/tensorflowjs_converter\", line 5, in <module>\n",
            "    from tensorflowjs.converters.converter import pip_main\n",
            "  File \"/usr/local/lib/python3.11/dist-packages/tensorflowjs/__init__.py\", line 21, in <module>\n",
            "    from tensorflowjs import converters\n",
            "  File \"/usr/local/lib/python3.11/dist-packages/tensorflowjs/converters/__init__.py\", line 21, in <module>\n",
            "    from tensorflowjs.converters.converter import convert\n",
            "  File \"/usr/local/lib/python3.11/dist-packages/tensorflowjs/converters/converter.py\", line 38, in <module>\n",
            "    from tensorflowjs.converters import tf_saved_model_conversion_v2\n",
            "  File \"/usr/local/lib/python3.11/dist-packages/tensorflowjs/converters/tf_saved_model_conversion_v2.py\", line 28, in <module>\n",
            "    import tensorflow_decision_forests\n",
            "  File \"/usr/local/lib/python3.11/dist-packages/tensorflow_decision_forests/__init__.py\", line 64, in <module>\n",
            "    from tensorflow_decision_forests import keras\n",
            "  File \"/usr/local/lib/python3.11/dist-packages/tensorflow_decision_forests/keras/__init__.py\", line 53, in <module>\n",
            "    from tensorflow_decision_forests.keras import core\n",
            "  File \"/usr/local/lib/python3.11/dist-packages/tensorflow_decision_forests/keras/core.py\", line 62, in <module>\n",
            "    from tensorflow_decision_forests.component.inspector import inspector as inspector_lib\n",
            "  File \"/usr/local/lib/python3.11/dist-packages/tensorflow_decision_forests/component/inspector/inspector.py\", line 64, in <module>\n",
            "    from tensorflow_decision_forests.component import py_tree\n",
            "  File \"/usr/local/lib/python3.11/dist-packages/tensorflow_decision_forests/component/py_tree/__init__.py\", line 20, in <module>\n",
            "    from tensorflow_decision_forests.component.py_tree import condition\n",
            "  File \"/usr/local/lib/python3.11/dist-packages/tensorflow_decision_forests/component/py_tree/condition.py\", line 26, in <module>\n",
            "    from tensorflow_decision_forests.component.py_tree import dataspec as dataspec_lib\n",
            "  File \"/usr/local/lib/python3.11/dist-packages/tensorflow_decision_forests/component/py_tree/dataspec.py\", line 24, in <module>\n",
            "    from yggdrasil_decision_forests.dataset import data_spec_pb2\n",
            "  File \"/usr/local/lib/python3.11/dist-packages/yggdrasil_decision_forests/dataset/data_spec_pb2.py\", line 9, in <module>\n",
            "    from google.protobuf import runtime_version as _runtime_version\n",
            "ImportError: cannot import name 'runtime_version' from 'google.protobuf' (/usr/local/lib/python3.11/dist-packages/google/protobuf/__init__.py)\n"
          ]
        }
      ],
      "source": [
        "!tensorflowjs_converter --input_format keras /content/student_model.h5 tfjs_student_model/"
      ]
    },
    {
      "cell_type": "markdown",
      "metadata": {
        "id": "I3LDGlIyqCig"
      },
      "source": [
        "## Testing Model"
      ]
    },
    {
      "cell_type": "code",
      "execution_count": null,
      "metadata": {
        "id": "A2k9okGLuZiA"
      },
      "outputs": [],
      "source": [
        "# # Label prediksi yang benar adalah Sehat | 2, CGPT\n",
        "\n",
        "# sehat_data = pd.DataFrame({\n",
        "#     # 'ID': [1, 2, 3],\n",
        "#     'Total_Pemasukan': [15_000_000],\n",
        "#     'Total_Pengeluaran': [10_000_000],\n",
        "#     'Total_Tabungan': [3_500_000],\n",
        "#     'Total_Anggaran': [11_000_000],\n",
        "#     # 'Hutang (IDR)': [10000000, 25000000, 40000000],\n",
        "#     # 'Rasio Hutang/Penghasilan': [3.33, 4.17, 4.44],\n",
        "#     # 'Total Aset': [50000000, 120000000, 200000000],\n",
        "#     # 'Total Hutang': [10000000, 25000000, 40000000],\n",
        "#     # 'Status_Kesehatan_Financial': ['Cukup', 'Baik', 'Sangat Baik'],\n",
        "#     # 'Jumlah Tanggungan': [1, 2, 4]\n",
        "# })"
      ]
    },
    {
      "cell_type": "code",
      "execution_count": null,
      "metadata": {
        "id": "gu5-c54UYwQJ"
      },
      "outputs": [],
      "source": [
        "# Label prediksi yang benar adalah Sehat | 2\n",
        "\n",
        "sehat_data = pd.DataFrame({\n",
        "    # 'ID': [1, 2, 3],\n",
        "    'Total_Pemasukan': [16100000],\n",
        "    'Total_Pengeluaran': [6800000],\n",
        "    # 'Total_Tabungan': [3000000],\n",
        "    # 'Total_Anggaran': [6800000],\n",
        "    # 'Hutang (IDR)': [10000000, 25000000, 40000000],\n",
        "    # 'Rasio Hutang/Penghasilan': [3.33, 4.17, 4.44],\n",
        "    # 'Total Aset': [50000000, 120000000, 200000000],\n",
        "    # 'Total Hutang': [10000000, 25000000, 40000000],\n",
        "    # 'Status_Kesehatan_Financial': ['Cukup', 'Baik', 'Sangat Baik'],\n",
        "    # 'Jumlah Tanggungan': [1, 2, 4]\n",
        "})"
      ]
    },
    {
      "cell_type": "code",
      "execution_count": null,
      "metadata": {
        "id": "bNMQlMK7emi4"
      },
      "outputs": [],
      "source": [
        "# Label prediksi yang benar adalah Perlu Perhatian | 1 (Confirm by CGPT)\n",
        "\n",
        "cukup_data = pd.DataFrame({\n",
        "    # 'ID': [1, 2, 3],\n",
        "    'Total_Pemasukan': [12200000],\n",
        "    'Total_Pengeluaran': [7600000],\n",
        "    # 'Total_Tabungan': [3500000],\n",
        "    # 'Total_Anggaran': [14300000],\n",
        "    # 'Hutang (IDR)': [10000000, 25000000, 40000000],\n",
        "    # 'Rasio Hutang/Penghasilan': [3.33, 4.17, 4.44],\n",
        "    # 'Total Aset': [50000000, 120000000, 200000000],\n",
        "    # 'Total Hutang': [10000000, 25000000, 40000000],\n",
        "    # 'Status_Kesehatan_Financial': ['Cukup', 'Baik', 'Sangat Baik'],\n",
        "    # 'Jumlah Tanggungan': [1, 2, 4]\n",
        "})"
      ]
    },
    {
      "cell_type": "code",
      "execution_count": null,
      "metadata": {
        "id": "LqTWpFtIfo9v"
      },
      "outputs": [],
      "source": [
        "# Label prediksi yang benar adalah Beresiko | 0 (Confirm by CGPT)\n",
        "\n",
        "beresiko_data = pd.DataFrame({\n",
        "    # 'ID': [1, 2, 3],\n",
        "    'Total_Pemasukan': [12500000],\n",
        "    'Total_Pengeluaran': [14700000],\n",
        "    # 'Total_Tabungan': [1400000],\n",
        "    # 'Total_Anggaran': [12000000],\n",
        "    # 'Hutang (IDR)': [10000000, 25000000, 40000000],\n",
        "    # 'Rasio Hutang/Penghasilan': [3.33, 4.17, 4.44],\n",
        "    # 'Total Aset': [50000000, 120000000, 200000000],\n",
        "    # 'Total Hutang': [10000000, 25000000, 40000000],\n",
        "    # 'Status_Kesehatan_Financial': ['Cukup', 'Baik', 'Sangat Baik'],\n",
        "    # 'Jumlah Tanggungan': [1, 2, 4]\n",
        "})"
      ]
    },
    {
      "cell_type": "code",
      "execution_count": null,
      "metadata": {
        "colab": {
          "base_uri": "https://localhost:8080/"
        },
        "id": "qdGqApqcvT3B",
        "outputId": "e4fb87e6-32bc-41b4-c50a-7f610ff92501"
      },
      "outputs": [
        {
          "name": "stderr",
          "output_type": "stream",
          "text": [
            "WARNING:tensorflow:6 out of the last 36 calls to <function TensorFlowTrainer.make_predict_function.<locals>.one_step_on_data_distributed at 0x7ae84c710d60> triggered tf.function retracing. Tracing is expensive and the excessive number of tracings could be due to (1) creating @tf.function repeatedly in a loop, (2) passing tensors with different shapes, (3) passing Python objects instead of tensors. For (1), please define your @tf.function outside of the loop. For (2), @tf.function has reduce_retracing=True option that can avoid unnecessary retracing. For (3), please refer to https://www.tensorflow.org/guide/function#controlling_retracing and https://www.tensorflow.org/api_docs/python/tf/function for  more details.\n"
          ]
        },
        {
          "name": "stdout",
          "output_type": "stream",
          "text": [
            "\u001b[1m1/1\u001b[0m \u001b[32m━━━━━━━━━━━━━━━━━━━━\u001b[0m\u001b[37m\u001b[0m \u001b[1m0s\u001b[0m 61ms/step\n",
            "[[0. 0. 1.]]\n",
            "['Sehat']\n"
          ]
        }
      ],
      "source": [
        "from tensorflow import keras\n",
        "model = keras.models.load_model('/content/student_model.keras')\n",
        "\n",
        "# Praproses data baru dengan preprocessor yang sama\n",
        "sehat_data_preprocessed = preprocessor.transform(sehat_data)\n",
        "\n",
        "# Prediksi menggunakan model\n",
        "predictions = model.predict(sehat_data_preprocessed)\n",
        "\n",
        "# Tampilkan hasil prediksi\n",
        "print(predictions)\n",
        "\n",
        "# Decode prediksi jika perlu (jika label encoder digunakan)\n",
        "decoded_predictions = label_encoder.inverse_transform(np.argmax(predictions, axis=1))\n",
        "print(decoded_predictions)"
      ]
    },
    {
      "cell_type": "code",
      "execution_count": null,
      "metadata": {
        "colab": {
          "base_uri": "https://localhost:8080/"
        },
        "id": "mRh5kAgivMZI",
        "outputId": "8e786bc7-dcbf-4f78-a0f6-826f693ce486"
      },
      "outputs": [
        {
          "name": "stdout",
          "output_type": "stream",
          "text": [
            "\u001b[1m1/1\u001b[0m \u001b[32m━━━━━━━━━━━━━━━━━━━━\u001b[0m\u001b[37m\u001b[0m \u001b[1m0s\u001b[0m 60ms/step\n",
            "[[0. 1. 0.]]\n",
            "['Perlu Perhatian']\n"
          ]
        }
      ],
      "source": [
        "from tensorflow import keras\n",
        "model = keras.models.load_model('/content/student_model.keras')\n",
        "\n",
        "# Praproses data baru dengan preprocessor yang sama\n",
        "cukup_data_preprocessed = preprocessor.transform(cukup_data)\n",
        "\n",
        "# Prediksi menggunakan model\n",
        "predictions = model.predict(cukup_data_preprocessed)\n",
        "\n",
        "# Tampilkan hasil prediksi\n",
        "print(predictions)\n",
        "\n",
        "# Decode prediksi jika perlu (jika label encoder digunakan)\n",
        "decoded_predictions = label_encoder.inverse_transform(np.argmax(predictions, axis=1))\n",
        "print(decoded_predictions)"
      ]
    },
    {
      "cell_type": "code",
      "execution_count": null,
      "metadata": {
        "colab": {
          "base_uri": "https://localhost:8080/"
        },
        "id": "SMjrf0kONAM4",
        "outputId": "16dae9eb-f94f-4540-882a-9531bc229a34"
      },
      "outputs": [
        {
          "name": "stdout",
          "output_type": "stream",
          "text": [
            "\u001b[1m1/1\u001b[0m \u001b[32m━━━━━━━━━━━━━━━━━━━━\u001b[0m\u001b[37m\u001b[0m \u001b[1m0s\u001b[0m 63ms/step\n",
            "[[0.03738657 0.9476627  0.01495069]]\n",
            "['Perlu Perhatian']\n"
          ]
        }
      ],
      "source": [
        "from tensorflow import keras\n",
        "model = keras.models.load_model('/content/student_model.keras')\n",
        "\n",
        "# Praproses data baru dengan preprocessor yang sama\n",
        "beresiko_data_preprocessed = preprocessor.transform(beresiko_data)\n",
        "\n",
        "# Prediksi menggunakan model\n",
        "predictions = model.predict(beresiko_data_preprocessed)\n",
        "\n",
        "# Tampilkan hasil prediksi\n",
        "print(predictions)\n",
        "\n",
        "# Decode prediksi jika perlu (jika label encoder digunakan)\n",
        "decoded_predictions = label_encoder.inverse_transform(np.argmax(predictions, axis=1))\n",
        "print(decoded_predictions)"
      ]
    },
    {
      "cell_type": "code",
      "execution_count": null,
      "metadata": {
        "colab": {
          "base_uri": "https://localhost:8080/"
        },
        "id": "zNZt7VNh822q",
        "outputId": "6808e7f5-d2f0-4024-b158-f224d8133582"
      },
      "outputs": [
        {
          "data": {
            "text/plain": [
              "array(['Sehat'], dtype=object)"
            ]
          },
          "execution_count": 28,
          "metadata": {},
          "output_type": "execute_result"
        }
      ],
      "source": [
        "import joblib\n",
        "import pandas as pd\n",
        "from sklearn.preprocessing import LabelEncoder, StandardScaler, OneHotEncoder\n",
        "from sklearn.compose import ColumnTransformer\n",
        "from sklearn.pipeline import Pipeline\n",
        "\n",
        "# Load the model\n",
        "sckit_model = joblib.load('/content/xgb_model.pkl')\n",
        "\n",
        "# --- Apply the same preprocessing steps used during training ---\n",
        "# Assuming 'numerical_features' and 'categorical_features' are defined as in your original code\n",
        "numerical_features = sehat_data.select_dtypes(include=['number']).columns\n",
        "categorical_features = sehat_data.select_dtypes(include=['object']).columns\n",
        "\n",
        "# Create the preprocessing pipeline (same as during training)\n",
        "numerical_transformer = Pipeline(steps=[\n",
        "    ('scaler', StandardScaler())\n",
        "])\n",
        "\n",
        "categorical_transformer = Pipeline(steps=[\n",
        "    ('onehot', OneHotEncoder(handle_unknown='ignore'))\n",
        "])\n",
        "\n",
        "preprocessor = ColumnTransformer(\n",
        "    transformers=[\n",
        "        ('num', numerical_transformer, numerical_features),\n",
        "        ('cat', categorical_transformer, categorical_features)\n",
        "    ])\n",
        "\n",
        "# Fit and transform (or just transform if already fitted) the new data\n",
        "sehat_data_preprocessed = preprocessor.fit_transform(sehat_data)\n",
        "\n",
        "# Now make predictions\n",
        "predictions = sckit_model.predict(sehat_data_preprocessed)\n",
        "\n",
        "# Decode predictions using the label encoder\n",
        "decoded_predictions = label_encoder.inverse_transform(predictions)\n",
        "decoded_predictions"
      ]
    },
    {
      "cell_type": "code",
      "execution_count": null,
      "metadata": {
        "colab": {
          "base_uri": "https://localhost:8080/"
        },
        "id": "9-41xaHpT1DF",
        "outputId": "4f302209-9797-4601-8459-2de4254216cb"
      },
      "outputs": [
        {
          "name": "stdout",
          "output_type": "stream",
          "text": [
            "Prediksi Kelas Model XGBoost: 1\n",
            "Apakah prediksi benar? Tidak\n",
            "Akurasi pada data baru: 0.0\n"
          ]
        }
      ],
      "source": [
        "beresiko_data = pd.DataFrame({\n",
        "    'Total_Pemasukan': [10200000],\n",
        "    'Total_Pengeluaran': [5600000],\n",
        "})\n",
        "\n",
        "scaler.fit(X)\n",
        "\n",
        "beresiko_data_encoded = scaler.transform(beresiko_data)\n",
        "\n",
        "prediksi = xgb_model.predict(beresiko_data_encoded)\n",
        "\n",
        "print(\"Prediksi Kelas Model XGBoost:\", prediksi[0])\n",
        "\n",
        "label_asli = [0]\n",
        "akurasi = accuracy_score(label_asli, prediksi)\n",
        "print(\"Apakah prediksi benar?\", \"Ya\" if prediksi[0] == 0 else \"Tidak\")\n",
        "print(\"Akurasi pada data baru:\", akurasi)"
      ]
    },
    {
      "cell_type": "code",
      "execution_count": null,
      "metadata": {
        "id": "XBjUWriaCJkn"
      },
      "outputs": [],
      "source": [
        "# Load the model\n",
        "from sklearn.preprocessing import LabelEncoder, StandardScaler, OneHotEncoder\n",
        "xgb_model = joblib.load('/content/xgb_model.pkl')\n",
        "\n",
        "beresiko_data = pd.DataFrame({\n",
        "    'Total_Pemasukan': [8000000],\n",
        "    'Total_Pengeluaran': [5000000],\n",
        "})\n",
        "\n",
        "# Initialize the StandardScaler (if not already done globally)\n",
        "scaler = StandardScaler()"
      ]
    },
    {
      "cell_type": "code",
      "execution_count": null,
      "metadata": {
        "colab": {
          "base_uri": "https://localhost:8080/"
        },
        "id": "vopBE7KlH9_7",
        "outputId": "b294858f-d3ba-45a3-b8ec-0910bd53b7c6"
      },
      "outputs": [
        {
          "data": {
            "text/plain": [
              "array(['Sehat'], dtype=object)"
            ]
          },
          "execution_count": 38,
          "metadata": {},
          "output_type": "execute_result"
        }
      ],
      "source": [
        "import joblib\n",
        "import pandas as pd\n",
        "from sklearn.preprocessing import LabelEncoder, StandardScaler, OneHotEncoder\n",
        "from sklearn.compose import ColumnTransformer\n",
        "from sklearn.pipeline import Pipeline\n",
        "\n",
        "# Load the model\n",
        "sckit_model = joblib.load('/content/xgb_model.pkl')\n",
        "\n",
        "# --- Apply the same preprocessing steps used during training ---\n",
        "# Assuming 'numerical_features' and 'categorical_features' are defined as in your original code\n",
        "numerical_features = cukup_data.select_dtypes(include=['number']).columns\n",
        "categorical_features = cukup_data.select_dtypes(include=['object']).columns\n",
        "\n",
        "# Create the preprocessing pipeline (same as during training)\n",
        "numerical_transformer = Pipeline(steps=[\n",
        "    ('scaler', StandardScaler())\n",
        "])\n",
        "\n",
        "categorical_transformer = Pipeline(steps=[\n",
        "    ('onehot', OneHotEncoder(handle_unknown='ignore'))\n",
        "])\n",
        "\n",
        "preprocessor = ColumnTransformer(\n",
        "    transformers=[\n",
        "        ('num', numerical_transformer, numerical_features),\n",
        "        ('cat', categorical_transformer, categorical_features)\n",
        "    ])\n",
        "\n",
        "# Fit and transform (or just transform if already fitted) the new data\n",
        "cukup_data_preprocessed = preprocessor.fit_transform(cukup_data)\n",
        "\n",
        "# Now make predictions\n",
        "predictions = sckit_model.predict(cukup_data_preprocessed)\n",
        "\n",
        "# Decode predictions using the label encoder\n",
        "decoded_predictions = label_encoder.inverse_transform(predictions)\n",
        "decoded_predictions"
      ]
    },
    {
      "cell_type": "code",
      "execution_count": null,
      "metadata": {
        "colab": {
          "base_uri": "https://localhost:8080/"
        },
        "id": "W85fNX-iIV-v",
        "outputId": "babe6281-3a9c-477e-924b-50d3dfdb242b"
      },
      "outputs": [
        {
          "data": {
            "text/plain": [
              "array(['Sehat'], dtype=object)"
            ]
          },
          "execution_count": 39,
          "metadata": {},
          "output_type": "execute_result"
        }
      ],
      "source": [
        "import joblib\n",
        "import pandas as pd\n",
        "from sklearn.preprocessing import LabelEncoder, StandardScaler, OneHotEncoder\n",
        "from sklearn.compose import ColumnTransformer\n",
        "from sklearn.pipeline import Pipeline\n",
        "\n",
        "# Load the model\n",
        "sckit_model = joblib.load('/content/xgb_model.pkl')\n",
        "\n",
        "# --- Apply the same preprocessing steps used during training ---\n",
        "# Assuming 'numerical_features' and 'categorical_features' are defined as in your original code\n",
        "numerical_features = beresiko_data.select_dtypes(include=['number']).columns\n",
        "categorical_features = beresiko_data.select_dtypes(include=['object']).columns\n",
        "\n",
        "# Create the preprocessing pipeline (same as during training)\n",
        "numerical_transformer = Pipeline(steps=[\n",
        "    ('scaler', StandardScaler())\n",
        "])\n",
        "\n",
        "categorical_transformer = Pipeline(steps=[\n",
        "    ('onehot', OneHotEncoder(handle_unknown='ignore'))\n",
        "])\n",
        "\n",
        "preprocessor = ColumnTransformer(\n",
        "    transformers=[\n",
        "        ('num', numerical_transformer, numerical_features),\n",
        "        ('cat', categorical_transformer, categorical_features)\n",
        "    ])\n",
        "\n",
        "# Fit and transform (or just transform if already fitted) the new data\n",
        "beresiko_data_preprocessed = preprocessor.fit_transform(beresiko_data)\n",
        "\n",
        "# Now make predictions\n",
        "predictions = sckit_model.predict(beresiko_data_preprocessed)\n",
        "\n",
        "# Decode predictions using the label encoder\n",
        "decoded_predictions = label_encoder.inverse_transform(predictions)\n",
        "decoded_predictions"
      ]
    }
  ],
  "metadata": {
    "colab": {
      "provenance": []
    },
    "kernelspec": {
      "display_name": "Python 3",
      "name": "python3"
    },
    "language_info": {
      "name": "python"
    }
  },
  "nbformat": 4,
  "nbformat_minor": 0
}
